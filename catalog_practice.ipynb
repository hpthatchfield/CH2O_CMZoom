{
 "cells": [
  {
   "cell_type": "code",
   "execution_count": 5,
   "id": "3fe1b412-2ff6-48d6-9682-5d73b403ada8",
   "metadata": {},
   "outputs": [],
   "source": [
    "import astropy.io.fits\n",
    "import matplotlib.pyplot as plt\n",
    "import numpy as np\n",
    "from astropy.table import Table, hstack, Column\n",
    "\n",
    "### This notebook is intended just to have you practice some dictionary skills and basic plotting! "
   ]
  },
  {
   "cell_type": "code",
   "execution_count": 6,
   "id": "544cd09a-eec5-4d55-9149-d3b3f54d7457",
   "metadata": {},
   "outputs": [],
   "source": [
    "#replace the catalog path here with the path to your local path\n",
    "path = '/Users/minathoresen/Desktop/JPL_summer_research/CH2O_CMZoom/'\n",
    "\n",
    "### this is where you actually load in the catalog table\n",
    "catalog = Table.read(path+'megacatalog_acc.fits')\n"
   ]
  },
  {
   "cell_type": "code",
   "execution_count": 7,
   "id": "24d4b695-c61f-4721-8fc8-f94970ecfd23",
   "metadata": {},
   "outputs": [
    {
     "name": "stdout",
     "output_type": "stream",
     "text": [
      "['index', 'area_ellipse', 'area_exact', 'flux_integrated', 'major_sigma', 'minor_sigma', 'position_angle', 'radius', 'glon', 'glat', 'r_eff', 'flux_integrated_bgsub', 'min_flux_integrated', 'noise', 'peak_cont_flux', 'min_cont_flux', 'mean_cont_flux', 'npix', 'DustTemperature', 'herschel_column', 'mass', 'sma_column', 'r_eff_pc', 'Sigma', 'n', 'rho', 'tff', 'glon_0', 'mass_bgsub', 'suspicious', 'leaf_ID', 'mask_num', 'mass_unc', 'N_unc', 'n_unc', 'rho_unc', 'tff_unc', 'mass_bgsub_unc', '8um_point', '20-24um_point', '70um_point', 'YSO', 'Walsh+2014_h2o_maser', 'Caswell+2012_methanol_maser', 'Gutermuth+2015_24um_point', 'Molinari+2016_70um_point', 'SF_any_all', 'SF_any_certain']\n"
     ]
    }
   ],
   "source": [
    "### try printing out all the catalog keys!\n",
    "print(catalog.keys())### <your code here> "
   ]
  },
  {
   "cell_type": "code",
   "execution_count": 8,
   "id": "07841388-08c9-4f56-976f-81ca473b06ca",
   "metadata": {},
   "outputs": [
    {
     "name": "stdout",
     "output_type": "stream",
     "text": [
      "       mass       \n",
      "        Jy        \n",
      "------------------\n",
      "102.92111518280959\n",
      " 3153.420438198316\n",
      "114.42350477433406\n",
      "103.70571411502776\n",
      "56.180634278591356\n",
      " 38.16146684820656\n",
      "               ...\n",
      " 48.97151004047018\n",
      "27.070515155256906\n",
      " 7.250811336883021\n",
      "18.618537286829863\n",
      "11.070044250758833\n",
      " 7.712148541169823\n",
      "  8.97431897998904\n",
      "Length = 285 rows\n"
     ]
    }
   ],
   "source": [
    "### try grabbing and printing the masses of the objects in the catalog\n",
    "masses = catalog['mass'] ### <insert code here>\n",
    "print(masses) "
   ]
  },
  {
   "cell_type": "code",
   "execution_count": 9,
   "id": "7298ae20-b66e-47fe-8972-3abdb417415f",
   "metadata": {},
   "outputs": [
    {
     "name": "stdout",
     "output_type": "stream",
     "text": [
      "      r_eff      \n",
      "      arcsec     \n",
      "-----------------\n",
      "9.084153124126923\n"
     ]
    }
   ],
   "source": [
    "### now lets try grabbing a specific leaf from the catalog:\n",
    "### there's a leaf with a 'leaf_ID' of G359.615-0.243a\n",
    "### I've started the code for you\n",
    "### can you print out value of the effective radius ('r_eff') of that leaf?\n",
    "\n",
    "specific_condition = (catalog['leaf_ID'] == 'G359.615-0.243a')\n",
    "\n",
    "print(catalog['r_eff'][specific_condition])\n"
   ]
  },
  {
   "cell_type": "code",
   "execution_count": 10,
   "id": "c54da5c3-0d49-4cbb-8ea1-d4b18aa669c5",
   "metadata": {},
   "outputs": [],
   "source": [
    "### Challenging one! Can you print out the masses of every leaf within the cloud G0.412+0.052\n",
    "### i.e. every leaf that has an ID starting with G0.412+0.052 (like G0.412+0.052a, G0.412+0.052b, etc)\n",
    "### give it a shot! There's a few ways to do this successfully but it's ok if you can't get it! \n"
   ]
  },
  {
   "cell_type": "code",
   "execution_count": 11,
   "id": "15a7a0d4",
   "metadata": {},
   "outputs": [
    {
     "name": "stdout",
     "output_type": "stream",
     "text": [
      "G0.412+0.052g\n",
      "       mass       \n",
      "        Jy        \n",
      "------------------\n",
      "15.575923488332974\n",
      "G0.412+0.052h\n",
      "       mass       \n",
      "        Jy        \n",
      "------------------\n",
      "15.537988959501181\n",
      "G0.412+0.052c\n",
      "       mass      \n",
      "        Jy       \n",
      "-----------------\n",
      "75.30598052089024\n",
      "G0.412+0.052e\n",
      "       mass      \n",
      "        Jy       \n",
      "-----------------\n",
      "38.38394569929355\n",
      "G0.412+0.052b\n",
      "      mass      \n",
      "       Jy       \n",
      "----------------\n",
      "88.7119440852512\n",
      "G0.412+0.052d\n",
      "      mass      \n",
      "       Jy       \n",
      "----------------\n",
      "40.7420856244887\n",
      "G0.412+0.052a\n",
      "       mass       \n",
      "        Jy        \n",
      "------------------\n",
      "186.34541103544586\n",
      "G0.412+0.052l\n",
      "       mass      \n",
      "        Jy       \n",
      "-----------------\n",
      "7.250811336883021\n",
      "G0.412+0.052f\n",
      "       mass       \n",
      "        Jy        \n",
      "------------------\n",
      "18.618537286829863\n",
      "G0.412+0.052i\n",
      "       mass       \n",
      "        Jy        \n",
      "------------------\n",
      "11.070044250758833\n",
      "G0.412+0.052k\n",
      "       mass      \n",
      "        Jy       \n",
      "-----------------\n",
      "7.712148541169823\n",
      "G0.412+0.052j\n",
      "      mass      \n",
      "       Jy       \n",
      "----------------\n",
      "8.97431897998904\n"
     ]
    }
   ],
   "source": [
    "for leaf in catalog['leaf_ID']:\n",
    "    if 'G0.412+0.052' in leaf:\n",
    "        specific_condition = catalog['leaf_ID']==leaf\n",
    "        print(leaf)\n",
    "        print(catalog['mass'][specific_condition])"
   ]
  },
  {
   "cell_type": "code",
   "execution_count": 12,
   "id": "04005ab5-ded3-41e4-bf43-584d9c640eac",
   "metadata": {},
   "outputs": [
    {
     "data": {
      "image/png": "[encoded data removed]",
      "text/plain": [
       "<Figure size 360x360 with 1 Axes>"
      ]
     },
     "metadata": {
      "needs_background": "light"
     },
     "output_type": "display_data"
    }
   ],
   "source": [
    "### Now lets try some plotting! \n",
    "### can you make a histogram of all the catalog leaf masses?\n",
    "\n",
    "fig, ax = plt.subplots(nrows=1,ncols=1,figsize=(5,5))\n",
    "### this next line just constructs bins for the masses in logspace to make the plot nicer\n",
    "bins = np.logspace(np.log10(min(catalog['mass'])),np.log10(max(catalog['mass'])),20)\n",
    "\n",
    "ax.hist(masses, bins)\n",
    "ax.set_xscale('log')\n",
    "plt.show()\n"
   ]
  },
  {
   "cell_type": "code",
   "execution_count": 13,
   "id": "16f91aa0-7d48-4bcb-9733-0dd4d5f15f64",
   "metadata": {},
   "outputs": [
    {
     "data": {
      "image/png": "[encoded data removed]",
      "text/plain": [
       "<Figure size 360x360 with 1 Axes>"
      ]
     },
     "metadata": {
      "needs_background": "light"
     },
     "output_type": "display_data"
    }
   ],
   "source": [
    "### can you do the same thing but for the column density? The key you'll need is called 'sma_column'\n",
    "column_density = catalog['sma_column']\n",
    "fig, ax = plt.subplots(nrows=1,ncols=1,figsize=(5,5))\n",
    "### this next line just constructs bins for the masses in logspace to make the plot nicer\n",
    "bins = np.logspace(np.log10(min(catalog['sma_column'])),np.log10(max(catalog['sma_column'])),20)\n",
    "\n",
    "ax.hist(column_density, bins)\n",
    "ax.set_xscale('log')\n",
    "plt.show()"
   ]
  },
  {
   "cell_type": "code",
   "execution_count": 2,
   "id": "68c4d01e-cae1-4d88-a7aa-13896d520d21",
   "metadata": {},
   "outputs": [
    {
     "ename": "NameError",
     "evalue": "name 'plt' is not defined",
     "output_type": "error",
     "traceback": [
      "\u001b[0;31m---------------------------------------------------------------------------\u001b[0m",
      "\u001b[0;31mNameError\u001b[0m                                 Traceback (most recent call last)",
      "Input \u001b[0;32mIn [2]\u001b[0m, in \u001b[0;36m<cell line: 3>\u001b[0;34m()\u001b[0m\n\u001b[1;32m      1\u001b[0m \u001b[38;5;66;03m### how about making a scatter plot of mass vs column density\u001b[39;00m\n\u001b[0;32m----> 3\u001b[0m fig, ax \u001b[38;5;241m=\u001b[39m \u001b[43mplt\u001b[49m\u001b[38;5;241m.\u001b[39msubplots(nrows\u001b[38;5;241m=\u001b[39m\u001b[38;5;241m1\u001b[39m,ncols\u001b[38;5;241m=\u001b[39m\u001b[38;5;241m1\u001b[39m,figsize\u001b[38;5;241m=\u001b[39m(\u001b[38;5;241m5\u001b[39m,\u001b[38;5;241m5\u001b[39m))\n\u001b[1;32m      4\u001b[0m ax\u001b[38;5;241m.\u001b[39mscatter(masses, column_density)\n\u001b[1;32m      5\u001b[0m ax\u001b[38;5;241m.\u001b[39mset_xscale(\u001b[38;5;124m'\u001b[39m\u001b[38;5;124mlog\u001b[39m\u001b[38;5;124m'\u001b[39m)\n",
      "\u001b[0;31mNameError\u001b[0m: name 'plt' is not defined"
     ]
    }
   ],
   "source": [
    "### how about making a scatter plot of mass vs column density\n",
    "\n",
    "fig, ax = plt.subplots(nrows=1,ncols=1,figsize=(5,5))\n",
    "ax.scatter(masses, column_density)\n",
    "ax.set_xscale('log')\n",
    "ax.set_yscale('log')\n",
    "\n"
   ]
  },
  {
   "cell_type": "code",
   "execution_count": null,
   "id": "b8ebc11b-5c29-4eb3-b05d-ac9ee048500f",
   "metadata": {},
   "outputs": [],
   "source": []
  }
 ],
 "metadata": {
  "kernelspec": {
   "display_name": "Python 3 (ipykernel)",
   "language": "python",
   "name": "python3"
  },
  "language_info": {
   "codemirror_mode": {
    "name": "ipython",
    "version": 3
   },
   "file_extension": ".py",
   "mimetype": "text/x-python",
   "name": "python",
   "nbconvert_exporter": "python",
   "pygments_lexer": "ipython3",
   "version": "3.9.12"
  }
 },
 "nbformat": 4,
 "nbformat_minor": 5
}
