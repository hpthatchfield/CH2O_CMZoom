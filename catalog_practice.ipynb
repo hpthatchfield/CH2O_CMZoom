{
 "cells": [
  {
   "cell_type": "code",
   "execution_count": 3,
   "id": "3fe1b412-2ff6-48d6-9682-5d73b403ada8",
   "metadata": {},
   "outputs": [],
   "source": [
    "import astropy.io.fits\n",
    "import matplotlib.pyplot as plt\n",
    "import numpy as np\n",
    "from astropy.table import Table, hstack, Column\n",
    "\n",
    "### This notebook is intended just to have you practice some dictionary skills and basic plotting! "
   ]
  },
  {
   "cell_type": "code",
   "execution_count": 4,
   "id": "544cd09a-eec5-4d55-9149-d3b3f54d7457",
   "metadata": {},
   "outputs": [],
   "source": [
    "#replace the catalog path here with the path to your local path\n",
    "path = '/Users/hph/Dropbox/astrophys/CMZoom/cmzoom_catalog/catalog_acc/'\n",
    "\n",
    "### this is where you actually load in the catalog table\n",
    "catalog = Table.read(path+'megacatalog_acc.fits')\n"
   ]
  },
  {
   "cell_type": "code",
   "execution_count": null,
   "id": "24d4b695-c61f-4721-8fc8-f94970ecfd23",
   "metadata": {},
   "outputs": [],
   "source": [
    "### try printing out all the catalog keys!\n",
    "print(### <your code here> \n"
   ]
  },
  {
   "cell_type": "code",
   "execution_count": null,
   "id": "07841388-08c9-4f56-976f-81ca473b06ca",
   "metadata": {},
   "outputs": [],
   "source": [
    "### try grabbing and printing the masses of the objects in the catalog\n",
    "masses = ### <insert code here>\n",
    "print(masses)\n"
   ]
  },
  {
   "cell_type": "code",
   "execution_count": 5,
   "id": "7298ae20-b66e-47fe-8972-3abdb417415f",
   "metadata": {},
   "outputs": [],
   "source": [
    "### now lets try grabbing a specific leaf from the catalog:\n",
    "### there's a leaf with a 'leaf_ID' of G359.615-0.243a\n",
    "### I've started the code for you\n",
    "### can you print out value of the effective radius ('r_eff') of that leaf?\n",
    "\n",
    "specific_condition = (catalog['leaf_ID'] == ###<add something here> )\n",
    "\n",
    "print(catalog['r_eff'][specific_condition])\n"
   ]
  },
  {
   "cell_type": "code",
   "execution_count": 11,
   "id": "c54da5c3-0d49-4cbb-8ea1-d4b18aa669c5",
   "metadata": {},
   "outputs": [],
   "source": [
    "### Challenging one! Can you print out the masses of every leaf within the cloud G0.412+0.052\n",
    "### i.e. every leaf that has an ID starting with G0.412+0.052 (like G0.412+0.052a, G0.412+0.052b, etc)\n",
    "### give it a shot! There's a few ways to do this successfully but it's ok if you can't get it! \n"
   ]
  },
  {
   "cell_type": "code",
   "execution_count": null,
   "id": "bd38b139-fa96-425d-baa0-a6bcbba2200a",
   "metadata": {},
   "outputs": [],
   "source": []
  },
  {
   "cell_type": "code",
   "execution_count": null,
   "id": "04005ab5-ded3-41e4-bf43-584d9c640eac",
   "metadata": {},
   "outputs": [],
   "source": [
    "### Now lets try some plotting! \n",
    "### can you make a histogram of all the catalog leaf masses?\n",
    "\n",
    "fig, ax = plt.subplots(nrows=1,ncols=1,figsize=(5,5))\n",
    "### this next line just constructs bins for the masses in logspace to make the plot nicer\n",
    "bins = np.logspace(np.log10(min(catalog['mass'])),np.log10(max(catalog['mass'])),20)\n",
    "\n",
    "ax.hist(### <add something here >, bins)\n",
    "ax.set_xscale('log')\n",
    "plt.show()\n"
   ]
  },
  {
   "cell_type": "code",
   "execution_count": null,
   "id": "16f91aa0-7d48-4bcb-9733-0dd4d5f15f64",
   "metadata": {},
   "outputs": [],
   "source": [
    "### can you do the same thing but for the column density? The key you'll need is called 'sma_column'\n"
   ]
  },
  {
   "cell_type": "code",
   "execution_count": null,
   "id": "68c4d01e-cae1-4d88-a7aa-13896d520d21",
   "metadata": {},
   "outputs": [],
   "source": [
    "### how about making a scatter plot of mass vs column density\n",
    "\n",
    "fig, ax = plt.subplots(nrows=1,ncols=1,figsize=(5,5))\n",
    "ax.scatter(### <add code here> )\n",
    "ax.set_xscale('log')\n",
    "ax.set_yscale('log')\n"
   ]
  },
  {
   "cell_type": "code",
   "execution_count": null,
   "id": "b8ebc11b-5c29-4eb3-b05d-ac9ee048500f",
   "metadata": {},
   "outputs": [],
   "source": []
  }
 ],
 "metadata": {
  "kernelspec": {
   "display_name": "Python 3 (ipykernel)",
   "language": "python",
   "name": "python3"
  },
  "language_info": {
   "codemirror_mode": {
    "name": "ipython",
    "version": 3
   },
   "file_extension": ".py",
   "mimetype": "text/x-python",
   "name": "python",
   "nbconvert_exporter": "python",
   "pygments_lexer": "ipython3",
   "version": "3.9.11"
  }
 },
 "nbformat": 4,
 "nbformat_minor": 5
}
