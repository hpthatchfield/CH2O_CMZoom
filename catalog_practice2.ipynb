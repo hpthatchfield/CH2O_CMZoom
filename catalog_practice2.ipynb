{
 "cells": [
  {
   "cell_type": "code",
   "execution_count": 1,
   "id": "4cb4c24f",
   "metadata": {},
   "outputs": [],
   "source": [
    "import astropy.io.fits\n",
    "import matplotlib.pyplot as plt\n",
    "import numpy as np\n",
    "from astropy.table import Table, hstack, Column\n",
    "\n",
    "### This notebook is intended develop more catalog exploration skills and more\n",
    "### advanced plotting! "
   ]
  },
  {
   "cell_type": "code",
   "execution_count": 4,
   "id": "ba42d646",
   "metadata": {},
   "outputs": [],
   "source": [
    "#replace the catalog path here with the path to your local path\n",
    "path = '/Users/hph/Dropbox/astrophys/CMZoom/cmzoom_catalog/catalog_acc/'\n",
    "\n",
    "### this is where you actually load in the catalog table\n",
    "catalog = Table.read(path+'megacatalog_team_acc_final_say.fits')"
   ]
  },
  {
   "cell_type": "code",
   "execution_count": 6,
   "id": "0ec88999",
   "metadata": {},
   "outputs": [],
   "source": [
    "### plot the list of catalog keys! Note that there are some new ones.\n"
   ]
  },
  {
   "cell_type": "code",
   "execution_count": null,
   "id": "c6c62bb5",
   "metadata": {},
   "outputs": [],
   "source": [
    "### OK lets do a standard plot! Try making a scatter plot of mass vs radius ['r_eff']\n",
    "### for each source in the catalog, in log scale with nicely labeled axes etc."
   ]
  },
  {
   "cell_type": "code",
   "execution_count": null,
   "id": "1ea79cdd",
   "metadata": {},
   "outputs": [],
   "source": []
  },
  {
   "cell_type": "code",
   "execution_count": null,
   "id": "ff0266cf",
   "metadata": {},
   "outputs": [],
   "source": [
    "### Great! Now let's try making a couple more similar plots for some \n",
    "### of the other catalog properties. Try making two side-by-side scatter plots\n",
    "### of Density (volume density, catalog['n']) vs radius and then also freefall time\n",
    "### (catalog['tff']) vs radius. \n",
    "fig, axes = plt.subplots(nrows=1, ncols=2)\n",
    "ax = axes[0]\n",
    "ax.scatter(#.....\n",
    "#....finish this!"
   ]
  },
  {
   "cell_type": "code",
   "execution_count": null,
   "id": "c5ea3245",
   "metadata": {},
   "outputs": [],
   "source": [
    "### do you notice anything about these plots? What happens when you make a plot of \n",
    "### density vs freefall time. Why do you think it looks like this? \n",
    "### Maybe something can explain it in the paper?\n"
   ]
  },
  {
   "cell_type": "code",
   "execution_count": null,
   "id": "8ca7927d",
   "metadata": {},
   "outputs": [],
   "source": []
  },
  {
   "cell_type": "code",
   "execution_count": null,
   "id": "c37070d7",
   "metadata": {},
   "outputs": [],
   "source": [
    "### More challenging one! \n",
    "### can you figure out how to make a plot of mass vs radius where the size of each \n",
    "### dot is scaled by its density?\n",
    "\n"
   ]
  },
  {
   "cell_type": "code",
   "execution_count": null,
   "id": "16e392a7",
   "metadata": {},
   "outputs": [],
   "source": [
    "### Even more challenging one! \n",
    "### Can you make a plot of mass vs radius where ONLY the star forming leaves are plotted\n",
    "### in a different color (i.e. red) and maybe using a different shape like a star or a box? \n",
    "### the catalog key for star forming status is catalog['sf_final_say']\n",
    "### where sf_final_say is 1, the leaf is star forming. Where it's 0 its quiescent\n",
    "### where sf_final_say is 2, the leaf is ambiguously star forming (we can't tell for sure)\n",
    "\n"
   ]
  },
  {
   "cell_type": "code",
   "execution_count": null,
   "id": "e7c82666",
   "metadata": {},
   "outputs": [],
   "source": []
  },
  {
   "cell_type": "code",
   "execution_count": null,
   "id": "9a61bef8",
   "metadata": {},
   "outputs": [],
   "source": []
  }
 ],
 "metadata": {
  "kernelspec": {
   "display_name": "Python 3",
   "language": "python",
   "name": "python3"
  },
  "language_info": {
   "codemirror_mode": {
    "name": "ipython",
    "version": 3
   },
   "file_extension": ".py",
   "mimetype": "text/x-python",
   "name": "python",
   "nbconvert_exporter": "python",
   "pygments_lexer": "ipython3",
   "version": "3.6.13"
  }
 },
 "nbformat": 4,
 "nbformat_minor": 5
}
